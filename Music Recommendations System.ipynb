{
 "cells": [
  {
   "cell_type": "code",
   "execution_count": 44,
   "id": "afe547ae-ac36-49d3-ad0b-bffa0c2c22a7",
   "metadata": {},
   "outputs": [],
   "source": [
    "import pandas as pd\n",
    "import numpy as np"
   ]
  },
  {
   "cell_type": "code",
   "execution_count": 15,
   "id": "c70f829e-8452-43ed-9855-d6b7abc6d37a",
   "metadata": {},
   "outputs": [],
   "source": [
    "df = pd.read_csv('/Users/adityapandey/Downloads/spotify_millsongdata.csv')"
   ]
  },
  {
   "cell_type": "code",
   "execution_count": 16,
   "id": "808c2029-f9d7-46d6-a5ae-7f3691c95098",
   "metadata": {},
   "outputs": [
    {
     "data": {
      "text/html": [
       "<div>\n",
       "<style scoped>\n",
       "    .dataframe tbody tr th:only-of-type {\n",
       "        vertical-align: middle;\n",
       "    }\n",
       "\n",
       "    .dataframe tbody tr th {\n",
       "        vertical-align: top;\n",
       "    }\n",
       "\n",
       "    .dataframe thead th {\n",
       "        text-align: right;\n",
       "    }\n",
       "</style>\n",
       "<table border=\"1\" class=\"dataframe\">\n",
       "  <thead>\n",
       "    <tr style=\"text-align: right;\">\n",
       "      <th></th>\n",
       "      <th>artist</th>\n",
       "      <th>song</th>\n",
       "      <th>link</th>\n",
       "      <th>text</th>\n",
       "    </tr>\n",
       "  </thead>\n",
       "  <tbody>\n",
       "    <tr>\n",
       "      <th>0</th>\n",
       "      <td>ABBA</td>\n",
       "      <td>Ahe's My Kind Of Girl</td>\n",
       "      <td>/a/abba/ahes+my+kind+of+girl_20598417.html</td>\n",
       "      <td>Look at her face, it's a wonderful face  \\r\\nA...</td>\n",
       "    </tr>\n",
       "    <tr>\n",
       "      <th>1</th>\n",
       "      <td>ABBA</td>\n",
       "      <td>Andante, Andante</td>\n",
       "      <td>/a/abba/andante+andante_20002708.html</td>\n",
       "      <td>Take it easy with me, please  \\r\\nTouch me gen...</td>\n",
       "    </tr>\n",
       "    <tr>\n",
       "      <th>2</th>\n",
       "      <td>ABBA</td>\n",
       "      <td>As Good As New</td>\n",
       "      <td>/a/abba/as+good+as+new_20003033.html</td>\n",
       "      <td>I'll never know why I had to go  \\r\\nWhy I had...</td>\n",
       "    </tr>\n",
       "    <tr>\n",
       "      <th>3</th>\n",
       "      <td>ABBA</td>\n",
       "      <td>Bang</td>\n",
       "      <td>/a/abba/bang_20598415.html</td>\n",
       "      <td>Making somebody happy is a question of give an...</td>\n",
       "    </tr>\n",
       "    <tr>\n",
       "      <th>4</th>\n",
       "      <td>ABBA</td>\n",
       "      <td>Bang-A-Boomerang</td>\n",
       "      <td>/a/abba/bang+a+boomerang_20002668.html</td>\n",
       "      <td>Making somebody happy is a question of give an...</td>\n",
       "    </tr>\n",
       "  </tbody>\n",
       "</table>\n",
       "</div>"
      ],
      "text/plain": [
       "  artist                   song                                        link  \\\n",
       "0   ABBA  Ahe's My Kind Of Girl  /a/abba/ahes+my+kind+of+girl_20598417.html   \n",
       "1   ABBA       Andante, Andante       /a/abba/andante+andante_20002708.html   \n",
       "2   ABBA         As Good As New        /a/abba/as+good+as+new_20003033.html   \n",
       "3   ABBA                   Bang                  /a/abba/bang_20598415.html   \n",
       "4   ABBA       Bang-A-Boomerang      /a/abba/bang+a+boomerang_20002668.html   \n",
       "\n",
       "                                                text  \n",
       "0  Look at her face, it's a wonderful face  \\r\\nA...  \n",
       "1  Take it easy with me, please  \\r\\nTouch me gen...  \n",
       "2  I'll never know why I had to go  \\r\\nWhy I had...  \n",
       "3  Making somebody happy is a question of give an...  \n",
       "4  Making somebody happy is a question of give an...  "
      ]
     },
     "execution_count": 16,
     "metadata": {},
     "output_type": "execute_result"
    }
   ],
   "source": [
    "df.head()"
   ]
  },
  {
   "cell_type": "code",
   "execution_count": 17,
   "id": "e4a6c34d-d209-4c3b-b4e1-a3d1ab3de3ed",
   "metadata": {},
   "outputs": [
    {
     "data": {
      "text/html": [
       "<div>\n",
       "<style scoped>\n",
       "    .dataframe tbody tr th:only-of-type {\n",
       "        vertical-align: middle;\n",
       "    }\n",
       "\n",
       "    .dataframe tbody tr th {\n",
       "        vertical-align: top;\n",
       "    }\n",
       "\n",
       "    .dataframe thead th {\n",
       "        text-align: right;\n",
       "    }\n",
       "</style>\n",
       "<table border=\"1\" class=\"dataframe\">\n",
       "  <thead>\n",
       "    <tr style=\"text-align: right;\">\n",
       "      <th></th>\n",
       "      <th>artist</th>\n",
       "      <th>song</th>\n",
       "      <th>link</th>\n",
       "      <th>text</th>\n",
       "    </tr>\n",
       "  </thead>\n",
       "  <tbody>\n",
       "    <tr>\n",
       "      <th>57645</th>\n",
       "      <td>Ziggy Marley</td>\n",
       "      <td>Good Old Days</td>\n",
       "      <td>/z/ziggy+marley/good+old+days_10198588.html</td>\n",
       "      <td>Irie days come on play  \\r\\nLet the angels fly...</td>\n",
       "    </tr>\n",
       "    <tr>\n",
       "      <th>57646</th>\n",
       "      <td>Ziggy Marley</td>\n",
       "      <td>Hand To Mouth</td>\n",
       "      <td>/z/ziggy+marley/hand+to+mouth_20531167.html</td>\n",
       "      <td>Power to the workers  \\r\\nMore power  \\r\\nPowe...</td>\n",
       "    </tr>\n",
       "    <tr>\n",
       "      <th>57647</th>\n",
       "      <td>Zwan</td>\n",
       "      <td>Come With Me</td>\n",
       "      <td>/z/zwan/come+with+me_20148981.html</td>\n",
       "      <td>all you need  \\r\\nis something i'll believe  \\...</td>\n",
       "    </tr>\n",
       "    <tr>\n",
       "      <th>57648</th>\n",
       "      <td>Zwan</td>\n",
       "      <td>Desire</td>\n",
       "      <td>/z/zwan/desire_20148986.html</td>\n",
       "      <td>northern star  \\r\\nam i frightened  \\r\\nwhere ...</td>\n",
       "    </tr>\n",
       "    <tr>\n",
       "      <th>57649</th>\n",
       "      <td>Zwan</td>\n",
       "      <td>Heartsong</td>\n",
       "      <td>/z/zwan/heartsong_20148991.html</td>\n",
       "      <td>come in  \\r\\nmake yourself at home  \\r\\ni'm a ...</td>\n",
       "    </tr>\n",
       "  </tbody>\n",
       "</table>\n",
       "</div>"
      ],
      "text/plain": [
       "             artist           song  \\\n",
       "57645  Ziggy Marley  Good Old Days   \n",
       "57646  Ziggy Marley  Hand To Mouth   \n",
       "57647          Zwan   Come With Me   \n",
       "57648          Zwan         Desire   \n",
       "57649          Zwan      Heartsong   \n",
       "\n",
       "                                              link  \\\n",
       "57645  /z/ziggy+marley/good+old+days_10198588.html   \n",
       "57646  /z/ziggy+marley/hand+to+mouth_20531167.html   \n",
       "57647           /z/zwan/come+with+me_20148981.html   \n",
       "57648                 /z/zwan/desire_20148986.html   \n",
       "57649              /z/zwan/heartsong_20148991.html   \n",
       "\n",
       "                                                    text  \n",
       "57645  Irie days come on play  \\r\\nLet the angels fly...  \n",
       "57646  Power to the workers  \\r\\nMore power  \\r\\nPowe...  \n",
       "57647  all you need  \\r\\nis something i'll believe  \\...  \n",
       "57648  northern star  \\r\\nam i frightened  \\r\\nwhere ...  \n",
       "57649  come in  \\r\\nmake yourself at home  \\r\\ni'm a ...  "
      ]
     },
     "execution_count": 17,
     "metadata": {},
     "output_type": "execute_result"
    }
   ],
   "source": [
    "df.tail()"
   ]
  },
  {
   "cell_type": "code",
   "execution_count": 18,
   "id": "5a796bc8-5f34-4083-8034-0c76d97ee6c4",
   "metadata": {},
   "outputs": [
    {
     "data": {
      "text/plain": [
       "(57650, 4)"
      ]
     },
     "execution_count": 18,
     "metadata": {},
     "output_type": "execute_result"
    }
   ],
   "source": [
    "df.shape"
   ]
  },
  {
   "cell_type": "code",
   "execution_count": 19,
   "id": "110dee67-90cd-4b42-8f63-b5bbbf6be0c3",
   "metadata": {},
   "outputs": [
    {
     "data": {
      "text/plain": [
       "artist    0\n",
       "song      0\n",
       "link      0\n",
       "text      0\n",
       "dtype: int64"
      ]
     },
     "execution_count": 19,
     "metadata": {},
     "output_type": "execute_result"
    }
   ],
   "source": [
    "df.isnull().sum()"
   ]
  },
  {
   "cell_type": "code",
   "execution_count": 20,
   "id": "161868c1-ee67-403e-8c46-53ea4a22d259",
   "metadata": {},
   "outputs": [],
   "source": [
    "df =df.sample(10000).drop('link', axis=1).reset_index(drop=True)"
   ]
  },
  {
   "cell_type": "code",
   "execution_count": 21,
   "id": "31d6b66e-7f17-423c-9b3d-241a8bf9c981",
   "metadata": {},
   "outputs": [
    {
     "data": {
      "text/html": [
       "<div>\n",
       "<style scoped>\n",
       "    .dataframe tbody tr th:only-of-type {\n",
       "        vertical-align: middle;\n",
       "    }\n",
       "\n",
       "    .dataframe tbody tr th {\n",
       "        vertical-align: top;\n",
       "    }\n",
       "\n",
       "    .dataframe thead th {\n",
       "        text-align: right;\n",
       "    }\n",
       "</style>\n",
       "<table border=\"1\" class=\"dataframe\">\n",
       "  <thead>\n",
       "    <tr style=\"text-align: right;\">\n",
       "      <th></th>\n",
       "      <th>artist</th>\n",
       "      <th>song</th>\n",
       "      <th>text</th>\n",
       "    </tr>\n",
       "  </thead>\n",
       "  <tbody>\n",
       "    <tr>\n",
       "      <th>0</th>\n",
       "      <td>Britney Spears</td>\n",
       "      <td>It Should Be Easy</td>\n",
       "      <td>I've been thinking  \\r\\nJust sitting thinking ...</td>\n",
       "    </tr>\n",
       "    <tr>\n",
       "      <th>1</th>\n",
       "      <td>Air Supply</td>\n",
       "      <td>Bring Out The Magic</td>\n",
       "      <td>When all else fails and you have nothing  \\r\\n...</td>\n",
       "    </tr>\n",
       "    <tr>\n",
       "      <th>2</th>\n",
       "      <td>The Beatles</td>\n",
       "      <td>Baby's In Black</td>\n",
       "      <td>Oh dear, what can I do?  \\r\\nBaby's in black  ...</td>\n",
       "    </tr>\n",
       "    <tr>\n",
       "      <th>3</th>\n",
       "      <td>Eric Clapton</td>\n",
       "      <td>It's In The Way That You Use It</td>\n",
       "      <td>[Chorus:]  \\r\\nIt's in the way that you use it...</td>\n",
       "    </tr>\n",
       "    <tr>\n",
       "      <th>4</th>\n",
       "      <td>Jimmy Buffett</td>\n",
       "      <td>Love In The Library</td>\n",
       "      <td>On the corner of Government and Bay Avenue  \\r...</td>\n",
       "    </tr>\n",
       "    <tr>\n",
       "      <th>5</th>\n",
       "      <td>Diana Ross</td>\n",
       "      <td>Girls</td>\n",
       "      <td>Girls, they are so lovely  \\r\\nOh girls, girls...</td>\n",
       "    </tr>\n",
       "    <tr>\n",
       "      <th>6</th>\n",
       "      <td>Counting Crows</td>\n",
       "      <td>Holiday In Spain</td>\n",
       "      <td>Got no place to go  \\r\\nBut there's a girl wai...</td>\n",
       "    </tr>\n",
       "    <tr>\n",
       "      <th>7</th>\n",
       "      <td>Pat Benatar</td>\n",
       "      <td>Tell It To Her</td>\n",
       "      <td>I'm the one you put all your stories on  \\r\\nS...</td>\n",
       "    </tr>\n",
       "    <tr>\n",
       "      <th>8</th>\n",
       "      <td>Norah Jones</td>\n",
       "      <td>Things You Don't Have To Do</td>\n",
       "      <td>I walk down the diamond-studded concrete canyo...</td>\n",
       "    </tr>\n",
       "    <tr>\n",
       "      <th>9</th>\n",
       "      <td>Bing Crosby</td>\n",
       "      <td>Last Night On The Backporch</td>\n",
       "      <td>There's a girl I'm wild about, every time I ta...</td>\n",
       "    </tr>\n",
       "  </tbody>\n",
       "</table>\n",
       "</div>"
      ],
      "text/plain": [
       "           artist                             song  \\\n",
       "0  Britney Spears                It Should Be Easy   \n",
       "1      Air Supply              Bring Out The Magic   \n",
       "2     The Beatles                  Baby's In Black   \n",
       "3    Eric Clapton  It's In The Way That You Use It   \n",
       "4   Jimmy Buffett              Love In The Library   \n",
       "5      Diana Ross                            Girls   \n",
       "6  Counting Crows                 Holiday In Spain   \n",
       "7     Pat Benatar                   Tell It To Her   \n",
       "8     Norah Jones      Things You Don't Have To Do   \n",
       "9     Bing Crosby      Last Night On The Backporch   \n",
       "\n",
       "                                                text  \n",
       "0  I've been thinking  \\r\\nJust sitting thinking ...  \n",
       "1  When all else fails and you have nothing  \\r\\n...  \n",
       "2  Oh dear, what can I do?  \\r\\nBaby's in black  ...  \n",
       "3  [Chorus:]  \\r\\nIt's in the way that you use it...  \n",
       "4  On the corner of Government and Bay Avenue  \\r...  \n",
       "5  Girls, they are so lovely  \\r\\nOh girls, girls...  \n",
       "6  Got no place to go  \\r\\nBut there's a girl wai...  \n",
       "7  I'm the one you put all your stories on  \\r\\nS...  \n",
       "8  I walk down the diamond-studded concrete canyo...  \n",
       "9  There's a girl I'm wild about, every time I ta...  "
      ]
     },
     "execution_count": 21,
     "metadata": {},
     "output_type": "execute_result"
    }
   ],
   "source": [
    "df.head(10)"
   ]
  },
  {
   "cell_type": "code",
   "execution_count": 22,
   "id": "4a7a249a-1336-4d2e-9948-30f566c8d413",
   "metadata": {},
   "outputs": [
    {
     "data": {
      "text/html": [
       "<div>\n",
       "<style scoped>\n",
       "    .dataframe tbody tr th:only-of-type {\n",
       "        vertical-align: middle;\n",
       "    }\n",
       "\n",
       "    .dataframe tbody tr th {\n",
       "        vertical-align: top;\n",
       "    }\n",
       "\n",
       "    .dataframe thead th {\n",
       "        text-align: right;\n",
       "    }\n",
       "</style>\n",
       "<table border=\"1\" class=\"dataframe\">\n",
       "  <thead>\n",
       "    <tr style=\"text-align: right;\">\n",
       "      <th></th>\n",
       "      <th>artist</th>\n",
       "      <th>song</th>\n",
       "      <th>text</th>\n",
       "    </tr>\n",
       "  </thead>\n",
       "  <tbody>\n",
       "    <tr>\n",
       "      <th>9990</th>\n",
       "      <td>Deep Purple</td>\n",
       "      <td>Talk About Love</td>\n",
       "      <td>Talking real world, all that pain  \\r\\nTry to ...</td>\n",
       "    </tr>\n",
       "    <tr>\n",
       "      <th>9991</th>\n",
       "      <td>Ella Fitzgerald</td>\n",
       "      <td>Come Rain Or Come Shine</td>\n",
       "      <td>I'm gonna love you, like nobody's loved you  \\...</td>\n",
       "    </tr>\n",
       "    <tr>\n",
       "      <th>9992</th>\n",
       "      <td>Cat Stevens</td>\n",
       "      <td>On The Road To Find Out</td>\n",
       "      <td>Well I left my happy home  \\r\\nTo see what I c...</td>\n",
       "    </tr>\n",
       "    <tr>\n",
       "      <th>9993</th>\n",
       "      <td>Glen Campbell</td>\n",
       "      <td>Ann</td>\n",
       "      <td>I know I'll never meet another hunk of woman l...</td>\n",
       "    </tr>\n",
       "    <tr>\n",
       "      <th>9994</th>\n",
       "      <td>Patsy Cline</td>\n",
       "      <td>It Wasn't God Who Made Honky Tonk Angels</td>\n",
       "      <td>It wasn't God who made honky tonk angels  \\r\\n...</td>\n",
       "    </tr>\n",
       "    <tr>\n",
       "      <th>9995</th>\n",
       "      <td>X-Ray Spex</td>\n",
       "      <td>Identity</td>\n",
       "      <td>Identity is the crisis can't you see  \\r\\nIden...</td>\n",
       "    </tr>\n",
       "    <tr>\n",
       "      <th>9996</th>\n",
       "      <td>Chaka Khan</td>\n",
       "      <td>Signed, Sealed, Delivered</td>\n",
       "      <td>Like a fool I went and stayed too long  \\r\\nNo...</td>\n",
       "    </tr>\n",
       "    <tr>\n",
       "      <th>9997</th>\n",
       "      <td>Alabama</td>\n",
       "      <td>Clear Water Blues</td>\n",
       "      <td>Clear water blues, thinkin' of you  \\r\\nSittin...</td>\n",
       "    </tr>\n",
       "    <tr>\n",
       "      <th>9998</th>\n",
       "      <td>Eddie Cochran</td>\n",
       "      <td>Oo Ba La Baby</td>\n",
       "      <td>Oo ba Ia baby, he's my Joe  \\r\\nOo ba la baby,...</td>\n",
       "    </tr>\n",
       "    <tr>\n",
       "      <th>9999</th>\n",
       "      <td>John Prine</td>\n",
       "      <td>Letter To The Penthouse Forum</td>\n",
       "      <td>Dear penthouse,  \\r\\nI never did believe anyth...</td>\n",
       "    </tr>\n",
       "  </tbody>\n",
       "</table>\n",
       "</div>"
      ],
      "text/plain": [
       "               artist                                      song  \\\n",
       "9990      Deep Purple                           Talk About Love   \n",
       "9991  Ella Fitzgerald                   Come Rain Or Come Shine   \n",
       "9992      Cat Stevens                   On The Road To Find Out   \n",
       "9993    Glen Campbell                                       Ann   \n",
       "9994      Patsy Cline  It Wasn't God Who Made Honky Tonk Angels   \n",
       "9995       X-Ray Spex                                  Identity   \n",
       "9996       Chaka Khan                 Signed, Sealed, Delivered   \n",
       "9997          Alabama                         Clear Water Blues   \n",
       "9998    Eddie Cochran                             Oo Ba La Baby   \n",
       "9999       John Prine             Letter To The Penthouse Forum   \n",
       "\n",
       "                                                   text  \n",
       "9990  Talking real world, all that pain  \\r\\nTry to ...  \n",
       "9991  I'm gonna love you, like nobody's loved you  \\...  \n",
       "9992  Well I left my happy home  \\r\\nTo see what I c...  \n",
       "9993  I know I'll never meet another hunk of woman l...  \n",
       "9994  It wasn't God who made honky tonk angels  \\r\\n...  \n",
       "9995  Identity is the crisis can't you see  \\r\\nIden...  \n",
       "9996  Like a fool I went and stayed too long  \\r\\nNo...  \n",
       "9997  Clear water blues, thinkin' of you  \\r\\nSittin...  \n",
       "9998  Oo ba Ia baby, he's my Joe  \\r\\nOo ba la baby,...  \n",
       "9999  Dear penthouse,  \\r\\nI never did believe anyth...  "
      ]
     },
     "execution_count": 22,
     "metadata": {},
     "output_type": "execute_result"
    }
   ],
   "source": [
    "df.tail(10)"
   ]
  },
  {
   "cell_type": "code",
   "execution_count": 23,
   "id": "6a5c6b16-cbc2-4cac-ba0f-31d6d9fa897f",
   "metadata": {},
   "outputs": [
    {
     "data": {
      "text/plain": [
       "\"I've been thinking  \\r\\nJust sitting thinking  \\r\\nOn why I love you  \\r\\nAnd all my reasons  \\r\\nAnd if I lost you  \\r\\nBoy, if I lost you  \\r\\nI'd lose myself  \\r\\nAnd I wouldn't feel the way I feel now  \\r\\n  \\r\\nYou bring me sin  \\r\\nYes, you bring me sin  \\r\\nYou make me feel like a million, billion  \\r\\nI'll let you in  \\r\\nBut don't you break my heart  \\r\\nDon't you rip me apart  \\r\\nNo, don't you rip me apart  \\r\\n  \\r\\nBaby, love, it should be easy  \\r\\nIt shouldn't be complicated  \\r\\nIt should be easy  \\r\\nI don't know how else to say it  \\r\\n  \\r\\n(You don't know how to)  \\r\\n  \\r\\nI've got visions  \\r\\nBoy, I've got visions of me and you  \\r\\nHappily just living  \\r\\nNow go there out there  \\r\\nThem beautiful men  \\r\\nBut you my future  \\r\\nBaby, you my right now  \\r\\nIf there was a scale from 1 to 10  \\r\\nThen my love for you is a million, billion  \\r\\nBoy, I'll love you till the day I'm dead  \\r\\nSo please, don't mess with my head  \\r\\nPlease, don't mess with my head  \\r\\n  \\r\\nBaby, love, it should be easy  \\r\\nIt shouldn't be complicated  \\r\\nIt should be easy  \\r\\nI don't know how else to say it  \\r\\n  \\r\\n(You don't know how to)  \\r\\n  \\r\\nLa da di  \\r\\nLa di da  \\r\\nIt's the only way to love  \\r\\nLa da di  \\r\\nLa di da  \\r\\nIt's the only way to love (To love)  \\r\\n  \\r\\nI don't know how, baby love, it should be easy  \\r\\nIt shouldn't be complicated  \\r\\nIt should be easy  \\r\\nI don't know how else to say it  \\r\\n  \\r\\nLa da di  \\r\\nLa di da  \\r\\nIt's the only way to love  \\r\\nLa da di  \\r\\nLa di da  \\r\\n  \\r\\n(You don't know how to)\\r\\n\\r\\n\""
      ]
     },
     "execution_count": 23,
     "metadata": {},
     "output_type": "execute_result"
    }
   ],
   "source": [
    "df['text'][0]"
   ]
  },
  {
   "cell_type": "code",
   "execution_count": 24,
   "id": "8c1cdc90-2d16-4772-b460-464b72bb4e4a",
   "metadata": {},
   "outputs": [
    {
     "data": {
      "text/plain": [
       "(10000, 3)"
      ]
     },
     "execution_count": 24,
     "metadata": {},
     "output_type": "execute_result"
    }
   ],
   "source": [
    "df.shape"
   ]
  },
  {
   "cell_type": "markdown",
   "id": "653600ea-8948-4ce8-8744-020d1f7d99b4",
   "metadata": {},
   "source": [
    "# Text Preprocessing"
   ]
  },
  {
   "cell_type": "code",
   "execution_count": 25,
   "id": "e0057158-31e9-4e4f-888b-d83e90ecacf1",
   "metadata": {},
   "outputs": [],
   "source": [
    "df['text'] = df['text'].str.lower().replace(r'^\\w\\s', ' ').replace(r'\\n', ' ', regex = True)"
   ]
  },
  {
   "cell_type": "code",
   "execution_count": 26,
   "id": "c1927039-2f41-4087-9d6a-d3f419c42a55",
   "metadata": {},
   "outputs": [],
   "source": [
    "import nltk\n",
    "from nltk.stem.porter import PorterStemmer\n",
    "stemmer = PorterStemmer()"
   ]
  },
  {
   "cell_type": "code",
   "execution_count": 27,
   "id": "9bb86a8e-1edc-4b1a-81a7-ece574fec984",
   "metadata": {},
   "outputs": [],
   "source": [
    "def tokenization(txt):\n",
    "    tokens = nltk.word_tokenize(txt)\n",
    "    stemming = [stemmer.stem(w) for w in tokens]\n",
    "    return \" \".join(stemming)"
   ]
  },
  {
   "cell_type": "code",
   "execution_count": 28,
   "id": "159e1cd3-e03a-4d6d-8d99-40a54d4ab420",
   "metadata": {},
   "outputs": [
    {
     "data": {
      "text/plain": [
       "'you are beauti'"
      ]
     },
     "execution_count": 28,
     "metadata": {},
     "output_type": "execute_result"
    }
   ],
   "source": [
    "tokenization(\"you are beautiful\")"
   ]
  },
  {
   "cell_type": "code",
   "execution_count": 29,
   "id": "aa919c53-c229-4bc2-a48e-1a675a06f138",
   "metadata": {},
   "outputs": [],
   "source": [
    "df['text'] = df['text'].apply(lambda x: tokenization(x))"
   ]
  },
  {
   "cell_type": "code",
   "execution_count": 30,
   "id": "ea8f6f78-156f-443b-9411-2595022ba143",
   "metadata": {},
   "outputs": [],
   "source": [
    "from sklearn.feature_extraction.text import TfidfVectorizer\n",
    "from sklearn.metrics.pairwise import cosine_similarity "
   ]
  },
  {
   "cell_type": "code",
   "execution_count": 31,
   "id": "15247180-64cb-4ca1-bf66-c69675a763af",
   "metadata": {},
   "outputs": [],
   "source": [
    "tfidvector = TfidfVectorizer(analyzer='word',stop_words='english')\n",
    "matrix = tfidvector.fit_transform(df['text'])\n",
    "similarity = cosine_similarity(matrix)"
   ]
  },
  {
   "cell_type": "code",
   "execution_count": 32,
   "id": "3a49b18a-1470-49f0-9c48-9275a0ae5cbf",
   "metadata": {},
   "outputs": [
    {
     "data": {
      "text/plain": [
       "array([1.        , 0.0568135 , 0.06777219, ..., 0.01250669, 0.18948148,\n",
       "       0.01419262])"
      ]
     },
     "execution_count": 32,
     "metadata": {},
     "output_type": "execute_result"
    }
   ],
   "source": [
    "similarity[0]"
   ]
  },
  {
   "cell_type": "code",
   "execution_count": 34,
   "id": "ed99f994-31e9-4148-ab2d-67f075109da2",
   "metadata": {},
   "outputs": [
    {
     "data": {
      "text/plain": [
       "9993"
      ]
     },
     "execution_count": 34,
     "metadata": {},
     "output_type": "execute_result"
    }
   ],
   "source": [
    "df[df['song'] == 'Ann'].index[0]"
   ]
  },
  {
   "cell_type": "markdown",
   "id": "5888cf50-a6a8-457e-ab54-bffff26ee2b9",
   "metadata": {},
   "source": [
    "# Recommender Function"
   ]
  },
  {
   "cell_type": "code",
   "execution_count": 35,
   "id": "2e068cb2-d489-42f9-a92e-02b937799692",
   "metadata": {},
   "outputs": [],
   "source": [
    "def recommendation(song_df):\n",
    "    idx = df[df['song'] == song_df].index[0]\n",
    "    distances = sorted(list(enumerate(similarity[idx])),reverse=True,key=lambda x:x[1])\n",
    "    \n",
    "    songs = []\n",
    "    for m_id in distances[1:21]:\n",
    "        songs.append(df.iloc[m_id[0]].song)\n",
    "        \n",
    "    return songs"
   ]
  },
  {
   "cell_type": "code",
   "execution_count": 37,
   "id": "bfae84ae-3931-47ec-8ecb-ff7b322dafb1",
   "metadata": {},
   "outputs": [
    {
     "data": {
      "text/plain": [
       "['Be Thankful',\n",
       " 'More Than A Feeling',\n",
       " 'Thank You',\n",
       " 'Doubly Good To You',\n",
       " \"I'm Thankful\",\n",
       " 'Thank You',\n",
       " 'Oh My Lord',\n",
       " 'Work Me, Lord',\n",
       " 'But I Might Die Tonight',\n",
       " 'Behold A Lady',\n",
       " 'Pictures In My Head',\n",
       " 'I Never Dreamed',\n",
       " 'This Heart',\n",
       " 'Just Like A Woman',\n",
       " 'I Want To Thank You',\n",
       " 'Just Like A Woman',\n",
       " 'I See You Lord',\n",
       " 'Thank You For The Music',\n",
       " 'Oh Draw Me Lord',\n",
       " 'The Sheep And The Goats']"
      ]
     },
     "execution_count": 37,
     "metadata": {},
     "output_type": "execute_result"
    }
   ],
   "source": [
    "recommendation(\"Ann\")"
   ]
  },
  {
   "cell_type": "code",
   "execution_count": 24,
   "id": "a3576c94-66d1-4a6b-ba86-a122f2e55f76",
   "metadata": {},
   "outputs": [],
   "source": [
    "import pickle\n",
    "pickle.dump(similarity,open('similarity.pkl','wb'))\n",
    "pickle.dump(df,open('df.pkl','wb'))"
   ]
  },
  {
   "cell_type": "code",
   "execution_count": 49,
   "id": "4388eb52-4624-4603-9f87-569f66bb3763",
   "metadata": {},
   "outputs": [],
   "source": [
    "def evaluate_recommendation_system():\n",
    "    # Initialize lists to store evaluation metrics\n",
    "    precision_scores = []\n",
    "    recall_scores = []\n",
    "    f1_scores = []\n",
    "    \n",
    "    # Iterate over each song in the dataset\n",
    "    for idx, row in df.iterrows():\n",
    "        # Exclude the current song from the dataset\n",
    "        test_song = row['song']\n",
    "        df_train = df[df.index != idx]\n",
    "        \n",
    "        # Get recommendations for the test song\n",
    "        recommended_songs = recommendation(test_song)\n",
    "        \n",
    "        # Assume user feedback: the user likes the top 5 recommended songs\n",
    "        user_feedback = recommended_songs[:5]\n",
    "        \n",
    "        # Calculate evaluation metrics\n",
    "        precision = len(set(user_feedback) & set(recommended_songs)) / len(recommended_songs)\n",
    "        recall = len(set(user_feedback) & set(recommended_songs)) / len(user_feedback)\n",
    "        f1 = 2 * (precision * recall) / (precision + recall) if precision + recall > 0 else 0\n",
    "        \n",
    "        # Append evaluation metrics to lists\n",
    "        precision_scores.append(precision)\n",
    "        recall_scores.append(recall)\n",
    "        f1_scores.append(f1)\n",
    "    \n",
    "    # Calculate average evaluation metrics\n",
    "    avg_recall = np.mean(recall_scores)\n",
    "    \n",
    "    \n",
    "    \n",
    "    print(\"Average Recall:\", avg_recall)"
   ]
  },
  {
   "cell_type": "code",
   "execution_count": 48,
   "id": "a654f803-474e-485c-9fee-9fe41c0dc61a",
   "metadata": {},
   "outputs": [
    {
     "name": "stdout",
     "output_type": "stream",
     "text": [
      "Average Recall: 0.9712799999999999\n"
     ]
    }
   ],
   "source": [
    "evaluate_recommendation_system()"
   ]
  }
 ],
 "metadata": {
  "kernelspec": {
   "display_name": "Python 3 (ipykernel)",
   "language": "python",
   "name": "python3"
  },
  "language_info": {
   "codemirror_mode": {
    "name": "ipython",
    "version": 3
   },
   "file_extension": ".py",
   "mimetype": "text/x-python",
   "name": "python",
   "nbconvert_exporter": "python",
   "pygments_lexer": "ipython3",
   "version": "3.9.18"
  }
 },
 "nbformat": 4,
 "nbformat_minor": 5
}
